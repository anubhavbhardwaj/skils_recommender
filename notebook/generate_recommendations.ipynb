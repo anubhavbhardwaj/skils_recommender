{
 "cells": [
  {
   "cell_type": "code",
   "execution_count": 1,
   "id": "5a0ded25",
   "metadata": {},
   "outputs": [],
   "source": [
    "import numpy as np # linear algebra\n",
    "import pandas as pd # data processing, CSV file I/O (e.g. pd.read_csv)\n",
    "from sklearn.metrics import mean_absolute_error\n",
    "from datetime import date "
   ]
  },
  {
   "cell_type": "code",
   "execution_count": 2,
   "id": "64370067",
   "metadata": {},
   "outputs": [],
   "source": [
    "def load_clean_final_df():\n",
    "    finalDF = pd.read_csv('../data/intermediate/final_df.csv')\n",
    "    \n",
    "    finalDF.rename(columns={'Unnamed: 0': 'job_title'}, inplace=True)\n",
    "    \n",
    "    finalDF.set_index('job_title', inplace=True)\n",
    "    \n",
    "    list_int_cols = []\n",
    "    \n",
    "    for each in finalDF.columns:\n",
    "        if each.isdigit():\n",
    "            list_int_cols.append(each)\n",
    "    \n",
    "    finalDF.drop(columns=list_int_cols, inplace=True)\n",
    "    \n",
    "    finalDF['sum_all'] = finalDF.sum(axis=1)\n",
    "    finalDF = finalDF[finalDF.sum_all != 0]\n",
    "    \n",
    "    finalDF.drop(columns=['sum_all'], inplace=True)\n",
    "    \n",
    "    return finalDF"
   ]
  },
  {
   "cell_type": "code",
   "execution_count": 3,
   "id": "94c65ae7",
   "metadata": {},
   "outputs": [],
   "source": []
  },
  {
   "cell_type": "code",
   "execution_count": 17,
   "id": "54bcbacc",
   "metadata": {},
   "outputs": [],
   "source": [
    "def get_rec_str(top_10, list_skill, skillsDict, finalDF, num_recs):\n",
    "    fin_str = \"The top {} recommendations are below: \\n\".format(num_recs)\n",
    "    for each in top_10:\n",
    "        df = finalDF.loc[each].values\n",
    "        indices = [{v: k for k, v in skillsDict.items()}[i] for i, x in enumerate(df) if x == 1]\n",
    "        req_skills = list(set(indices) - set(list_skill))\n",
    "        \n",
    "        if not req_skills:\n",
    "            fin_str = fin_str + \"For the job of: \" + each + \", You don't need any extra skills!\\n\" \n",
    "        else:\n",
    "            fin_str = fin_str + \"For the job of: \" + each + \", You need the following extra skills: {}\".format(str(req_skills)) + '\\n'\n",
    "            \n",
    "    return fin_str"
   ]
  },
  {
   "cell_type": "code",
   "execution_count": 18,
   "id": "d496cc56",
   "metadata": {},
   "outputs": [],
   "source": [
    "# Finds best jobs/roles and additional skills required for the role    \n",
    "def findJobs(ll , skills_list, finalDF , skills_ndx_dict, num_recs=10) :\n",
    "    d = dict() \n",
    "    # assert len(ll) == 49 , \"Length of input not correct !! \" \n",
    "    for i , j  in finalDF.iterrows() : \n",
    "        mae = mean_absolute_error(j.values , ll)\n",
    "        d[i] = mae \n",
    "    s = pd.Series(d) \n",
    "    top_10 = list(s.sort_values(ascending = True).iloc[:num_recs].keys())\n",
    "    del(s)\n",
    "    return get_rec_str(top_10, skills_list, skills_ndx_dict, finalDF, num_recs)"
   ]
  },
  {
   "cell_type": "code",
   "execution_count": 19,
   "id": "dbee4c75",
   "metadata": {},
   "outputs": [],
   "source": [
    "def createSkillDict(finalDF) : \n",
    "    skills_ndx_dict = dict()\n",
    "    cnt = 0 \n",
    "    for i in finalDF.columns : \n",
    "        skills_ndx_dict[i] = cnt  \n",
    "        cnt+=1 \n",
    "    return skills_ndx_dict "
   ]
  },
  {
   "cell_type": "code",
   "execution_count": 20,
   "id": "568880fb",
   "metadata": {},
   "outputs": [],
   "source": []
  },
  {
   "cell_type": "code",
   "execution_count": 21,
   "id": "900247c5",
   "metadata": {},
   "outputs": [],
   "source": [
    "def create_map(list_skills):\n",
    "    list_vals = [0]*finalDF.shape[1]\n",
    "    for each in list_skills:\n",
    "        list_vals[skillsDict[each]] = 1\n",
    "    return list_vals"
   ]
  },
  {
   "cell_type": "code",
   "execution_count": 31,
   "id": "5a377773",
   "metadata": {},
   "outputs": [],
   "source": [
    "def generate_recs(list_skills, num_recs):\n",
    "    finalDF = load_clean_final_df()\n",
    "    skillsDict = createSkillDict(finalDF) \n",
    "    return findJobs(create_map(list_skills), list_skills, finalDF, skillsDict, num_recs)"
   ]
  },
  {
   "cell_type": "code",
   "execution_count": 33,
   "id": "5a32c9ef",
   "metadata": {},
   "outputs": [
    {
     "data": {
      "text/plain": [
       "\"The top 10 recommendations are below: \\nFor the job of: Software Development Engineer, Ice Team (Systems Intelligence), You don't need any extra skills!\\nFor the job of: Software QA Engineer - FW, You don't need any extra skills!\\nFor the job of: Principal Computer Vision Scientist, You don't need any extra skills!\\nFor the job of: Software Dev Engineer - Test,  Alexa, You don't need any extra skills!\\nFor the job of: Senior Web Developer - EC2 Spot, You don't need any extra skills!\\nFor the job of: Software Development Engineer, AWS, You don't need any extra skills!\\nFor the job of: Software Development Engineer - Amazon Web Services - New Initiative, You need the following extra skills: ['C++']\\nFor the job of: Research Engineer, Alexa, You don't need any extra skills!\\nFor the job of: Rendering Engineer, You don't need any extra skills!\\nFor the job of: Software Development Engineer - BIOS, You don't need any extra skills!\\n\""
      ]
     },
     "execution_count": 33,
     "metadata": {},
     "output_type": "execute_result"
    }
   ],
   "source": [
    "generate_recs(['Python', 'Java'], num_recs=10)"
   ]
  },
  {
   "cell_type": "code",
   "execution_count": null,
   "id": "712fb2af",
   "metadata": {},
   "outputs": [],
   "source": [
    "finalDF"
   ]
  },
  {
   "cell_type": "code",
   "execution_count": null,
   "id": "59ef5a49",
   "metadata": {},
   "outputs": [],
   "source": []
  }
 ],
 "metadata": {
  "kernelspec": {
   "display_name": "Python 3 (ipykernel)",
   "language": "python",
   "name": "python3"
  },
  "language_info": {
   "codemirror_mode": {
    "name": "ipython",
    "version": 3
   },
   "file_extension": ".py",
   "mimetype": "text/x-python",
   "name": "python",
   "nbconvert_exporter": "python",
   "pygments_lexer": "ipython3",
   "version": "3.9.7"
  }
 },
 "nbformat": 4,
 "nbformat_minor": 5
}
